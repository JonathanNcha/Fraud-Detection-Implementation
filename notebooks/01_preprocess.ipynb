{
 "cells": [
  {
   "cell_type": "markdown",
   "id": "b631125f",
   "metadata": {},
   "source": [
    "Imports"
   ]
  },
  {
   "cell_type": "code",
   "execution_count": 3,
   "id": "56a0aaf2",
   "metadata": {},
   "outputs": [],
   "source": [
    "import sys, os\n",
    "sys.path.append(os.path.abspath(\"..\"))\n",
    "sys.path.append(os.path.abspath(\"../src\"))\n",
    "import pandas as pd\n",
    "from data_io import load_creditcard, save_processed\n",
    "from preprocessing import clean_creditcard, scale_features, stratified_split\n",
    "from features import build_features\n",
    "from imbalance import apply_smote"
   ]
  },
  {
   "cell_type": "markdown",
   "id": "56660c84",
   "metadata": {},
   "source": [
    "1. Load raw European dataset"
   ]
  },
  {
   "cell_type": "code",
   "execution_count": 4,
   "id": "6b1a840c",
   "metadata": {},
   "outputs": [
    {
     "name": "stdout",
     "output_type": "stream",
     "text": [
      "Raw shape: (284807, 32)\n"
     ]
    }
   ],
   "source": [
    "df = load_creditcard()\n",
    "print(\"Raw shape:\", df.shape)"
   ]
  },
  {
   "cell_type": "markdown",
   "id": "f681c3f7",
   "metadata": {},
   "source": [
    "2. Clean dataset"
   ]
  },
  {
   "cell_type": "code",
   "execution_count": 5,
   "id": "701080d2",
   "metadata": {},
   "outputs": [
    {
     "name": "stdout",
     "output_type": "stream",
     "text": [
      "After cleaning: (283726, 32)\n"
     ]
    }
   ],
   "source": [
    "df = clean_creditcard(df)\n",
    "print(\"After cleaning:\", df.shape)"
   ]
  },
  {
   "cell_type": "markdown",
   "id": "3ad952c8",
   "metadata": {},
   "source": [
    "3. Feature engineering"
   ]
  },
  {
   "cell_type": "code",
   "execution_count": 6,
   "id": "94986b5b",
   "metadata": {},
   "outputs": [
    {
     "name": "stdout",
     "output_type": "stream",
     "text": [
      "With engineered features: (283726, 35)\n"
     ]
    }
   ],
   "source": [
    "df = build_features(df)\n",
    "print(\"With engineered features:\", df.shape)"
   ]
  },
  {
   "cell_type": "markdown",
   "id": "ebd73001",
   "metadata": {},
   "source": [
    "4. Scale numeric features\n"
   ]
  },
  {
   "cell_type": "code",
   "execution_count": 7,
   "id": "5fa2b3fd",
   "metadata": {},
   "outputs": [],
   "source": [
    "numeric_cols = [c for c in df.columns if c not in [\"Class\"]]\n",
    "df = scale_features(df, numeric_cols)"
   ]
  },
  {
   "cell_type": "markdown",
   "id": "0d5b5e56",
   "metadata": {},
   "source": [
    "5. Split into train/val/test"
   ]
  },
  {
   "cell_type": "code",
   "execution_count": 8,
   "id": "6c532592",
   "metadata": {},
   "outputs": [
    {
     "name": "stdout",
     "output_type": "stream",
     "text": [
      "Train: (198608, 35) Val: (42559, 35) Test: (42559, 35)\n"
     ]
    }
   ],
   "source": [
    "train_df, val_df, test_df = stratified_split(df)\n",
    "print(\"Train:\", train_df.shape, \"Val:\", val_df.shape, \"Test:\", test_df.shape)"
   ]
  },
  {
   "cell_type": "markdown",
   "id": "8643a405",
   "metadata": {},
   "source": [
    "6. Handle imbalance (SMOTE on training set only)"
   ]
  },
  {
   "cell_type": "code",
   "execution_count": 9,
   "id": "1e3ba449",
   "metadata": {},
   "outputs": [
    {
     "name": "stdout",
     "output_type": "stream",
     "text": [
      "Resampled train shape: (396554, 34)\n"
     ]
    }
   ],
   "source": [
    "X_train, y_train = train_df.drop(\"Class\", axis=1), train_df[\"Class\"]\n",
    "X_res, y_res = apply_smote(X_train, y_train)\n",
    "print(\"Resampled train shape:\", X_res.shape)"
   ]
  },
  {
   "cell_type": "markdown",
   "id": "bd17fff0",
   "metadata": {},
   "source": [
    "7. Save processed dataset"
   ]
  },
  {
   "cell_type": "code",
   "execution_count": 10,
   "id": "0b177c1d",
   "metadata": {},
   "outputs": [
    {
     "name": "stdout",
     "output_type": "stream",
     "text": [
      "Saved: C:\\Users\\jonat\\OneDrive - Pan-Atlantic University\\Dissertation\\Fraud Detection Implementation\\data\\processed\\creditcard_processed.csv.gz\n"
     ]
    },
    {
     "data": {
      "text/plain": [
       "WindowsPath('C:/Users/jonat/OneDrive - Pan-Atlantic University/Dissertation/Fraud Detection Implementation/data/processed/creditcard_processed.csv.gz')"
      ]
     },
     "execution_count": 10,
     "metadata": {},
     "output_type": "execute_result"
    }
   ],
   "source": [
    "save_processed(df, \"creditcard_processed\")\n"
   ]
  }
 ],
 "metadata": {
  "kernelspec": {
   "display_name": "venv (3.13.6)",
   "language": "python",
   "name": "python3"
  },
  "language_info": {
   "codemirror_mode": {
    "name": "ipython",
    "version": 3
   },
   "file_extension": ".py",
   "mimetype": "text/x-python",
   "name": "python",
   "nbconvert_exporter": "python",
   "pygments_lexer": "ipython3",
   "version": "3.13.6"
  }
 },
 "nbformat": 4,
 "nbformat_minor": 5
}
